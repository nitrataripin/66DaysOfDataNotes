{
  "nbformat": 4,
  "nbformat_minor": 0,
  "metadata": {
    "colab": {
      "name": "UjiCoba00.ipynb",
      "provenance": [],
      "authorship_tag": "ABX9TyOd+8uXyIRwlHMcB5NPVfom"
    },
    "kernelspec": {
      "name": "python3",
      "display_name": "Python 3"
    },
    "language_info": {
      "name": "python"
    }
  },
  "cells": [
    {
      "cell_type": "markdown",
      "source": [
        "# Judul"
      ],
      "metadata": {
        "id": "2WLr3lzbASc5"
      }
    },
    {
      "cell_type": "markdown",
      "source": [
        "Contoh persamaan 1:\n",
        "\\begin{align}\n",
        "        \\mathbf{a} \\cdot \\mathbf{b} = \\sum_{i=1}^n a_i b_i.\n",
        "    \\end{align}"
      ],
      "metadata": {
        "id": "uQgU2QD_GWL1"
      }
    },
    {
      "cell_type": "markdown",
      "source": [
        ""
      ],
      "metadata": {
        "id": "yeOB3DT-GuRy"
      }
    },
    {
      "cell_type": "code",
      "source": [
        ""
      ],
      "metadata": {
        "id": "8Nct7aNOGVcn"
      },
      "execution_count": null,
      "outputs": []
    },
    {
      "cell_type": "code",
      "execution_count": null,
      "metadata": {
        "id": "Oeu6JNUxcweY"
      },
      "outputs": [],
      "source": [
        ""
      ]
    }
  ]
}